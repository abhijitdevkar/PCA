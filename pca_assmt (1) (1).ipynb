{
 "cells": [
  {
   "cell_type": "code",
   "execution_count": null,
   "metadata": {},
   "outputs": [],
   "source": [
    "Perform Principal component analysis and perform clustering using first \n",
    "3 principal component scores (both heirarchial and k mean clustering(scree plot or elbow curve) and obtain \n",
    "optimum number of clusters and check whether we have obtained same number of clusters with the original data \n",
    "(class column we have ignored at the begining who shows it has 3 clusters)df"
   ]
  },
  {
   "cell_type": "code",
   "execution_count": 1,
   "metadata": {
    "id": "-t89ZH0XWV5e"
   },
   "outputs": [],
   "source": [
    "import pandas as pd\n",
    "import numpy as np\n",
    "from sklearn.decomposition import PCA\n",
    "import matplotlib.pyplot as plt \n",
    "from sklearn.preprocessing import scale\n"
   ]
  },
  {
   "cell_type": "code",
   "execution_count": 2,
   "metadata": {
    "id": "6FbMV3ikWD41"
   },
   "outputs": [],
   "source": [
    "df=pd.read_csv(\"wine.csv\")"
   ]
  },
  {
   "cell_type": "code",
   "execution_count": 3,
   "metadata": {
    "colab": {
     "base_uri": "https://localhost:8080/",
     "height": 439
    },
    "id": "zoNDMla7WD43",
    "outputId": "6007e5c2-0947-459b-e3de-391d7c1ea6e6"
   },
   "outputs": [
    {
     "data": {
      "text/html": [
       "<div>\n",
       "<style scoped>\n",
       "    .dataframe tbody tr th:only-of-type {\n",
       "        vertical-align: middle;\n",
       "    }\n",
       "\n",
       "    .dataframe tbody tr th {\n",
       "        vertical-align: top;\n",
       "    }\n",
       "\n",
       "    .dataframe thead th {\n",
       "        text-align: right;\n",
       "    }\n",
       "</style>\n",
       "<table border=\"1\" class=\"dataframe\">\n",
       "  <thead>\n",
       "    <tr style=\"text-align: right;\">\n",
       "      <th></th>\n",
       "      <th>Type</th>\n",
       "      <th>Alcohol</th>\n",
       "      <th>Malic</th>\n",
       "      <th>Ash</th>\n",
       "      <th>Alcalinity</th>\n",
       "      <th>Magnesium</th>\n",
       "      <th>Phenols</th>\n",
       "      <th>Flavanoids</th>\n",
       "      <th>Nonflavanoids</th>\n",
       "      <th>Proanthocyanins</th>\n",
       "      <th>Color</th>\n",
       "      <th>Hue</th>\n",
       "      <th>Dilution</th>\n",
       "      <th>Proline</th>\n",
       "    </tr>\n",
       "  </thead>\n",
       "  <tbody>\n",
       "    <tr>\n",
       "      <th>0</th>\n",
       "      <td>1</td>\n",
       "      <td>14.23</td>\n",
       "      <td>1.71</td>\n",
       "      <td>2.43</td>\n",
       "      <td>15.6</td>\n",
       "      <td>127</td>\n",
       "      <td>2.80</td>\n",
       "      <td>3.06</td>\n",
       "      <td>0.28</td>\n",
       "      <td>2.29</td>\n",
       "      <td>5.64</td>\n",
       "      <td>1.04</td>\n",
       "      <td>3.92</td>\n",
       "      <td>1065</td>\n",
       "    </tr>\n",
       "    <tr>\n",
       "      <th>1</th>\n",
       "      <td>1</td>\n",
       "      <td>13.20</td>\n",
       "      <td>1.78</td>\n",
       "      <td>2.14</td>\n",
       "      <td>11.2</td>\n",
       "      <td>100</td>\n",
       "      <td>2.65</td>\n",
       "      <td>2.76</td>\n",
       "      <td>0.26</td>\n",
       "      <td>1.28</td>\n",
       "      <td>4.38</td>\n",
       "      <td>1.05</td>\n",
       "      <td>3.40</td>\n",
       "      <td>1050</td>\n",
       "    </tr>\n",
       "    <tr>\n",
       "      <th>2</th>\n",
       "      <td>1</td>\n",
       "      <td>13.16</td>\n",
       "      <td>2.36</td>\n",
       "      <td>2.67</td>\n",
       "      <td>18.6</td>\n",
       "      <td>101</td>\n",
       "      <td>2.80</td>\n",
       "      <td>3.24</td>\n",
       "      <td>0.30</td>\n",
       "      <td>2.81</td>\n",
       "      <td>5.68</td>\n",
       "      <td>1.03</td>\n",
       "      <td>3.17</td>\n",
       "      <td>1185</td>\n",
       "    </tr>\n",
       "    <tr>\n",
       "      <th>3</th>\n",
       "      <td>1</td>\n",
       "      <td>14.37</td>\n",
       "      <td>1.95</td>\n",
       "      <td>2.50</td>\n",
       "      <td>16.8</td>\n",
       "      <td>113</td>\n",
       "      <td>3.85</td>\n",
       "      <td>3.49</td>\n",
       "      <td>0.24</td>\n",
       "      <td>2.18</td>\n",
       "      <td>7.80</td>\n",
       "      <td>0.86</td>\n",
       "      <td>3.45</td>\n",
       "      <td>1480</td>\n",
       "    </tr>\n",
       "    <tr>\n",
       "      <th>4</th>\n",
       "      <td>1</td>\n",
       "      <td>13.24</td>\n",
       "      <td>2.59</td>\n",
       "      <td>2.87</td>\n",
       "      <td>21.0</td>\n",
       "      <td>118</td>\n",
       "      <td>2.80</td>\n",
       "      <td>2.69</td>\n",
       "      <td>0.39</td>\n",
       "      <td>1.82</td>\n",
       "      <td>4.32</td>\n",
       "      <td>1.04</td>\n",
       "      <td>2.93</td>\n",
       "      <td>735</td>\n",
       "    </tr>\n",
       "    <tr>\n",
       "      <th>...</th>\n",
       "      <td>...</td>\n",
       "      <td>...</td>\n",
       "      <td>...</td>\n",
       "      <td>...</td>\n",
       "      <td>...</td>\n",
       "      <td>...</td>\n",
       "      <td>...</td>\n",
       "      <td>...</td>\n",
       "      <td>...</td>\n",
       "      <td>...</td>\n",
       "      <td>...</td>\n",
       "      <td>...</td>\n",
       "      <td>...</td>\n",
       "      <td>...</td>\n",
       "    </tr>\n",
       "    <tr>\n",
       "      <th>173</th>\n",
       "      <td>3</td>\n",
       "      <td>13.71</td>\n",
       "      <td>5.65</td>\n",
       "      <td>2.45</td>\n",
       "      <td>20.5</td>\n",
       "      <td>95</td>\n",
       "      <td>1.68</td>\n",
       "      <td>0.61</td>\n",
       "      <td>0.52</td>\n",
       "      <td>1.06</td>\n",
       "      <td>7.70</td>\n",
       "      <td>0.64</td>\n",
       "      <td>1.74</td>\n",
       "      <td>740</td>\n",
       "    </tr>\n",
       "    <tr>\n",
       "      <th>174</th>\n",
       "      <td>3</td>\n",
       "      <td>13.40</td>\n",
       "      <td>3.91</td>\n",
       "      <td>2.48</td>\n",
       "      <td>23.0</td>\n",
       "      <td>102</td>\n",
       "      <td>1.80</td>\n",
       "      <td>0.75</td>\n",
       "      <td>0.43</td>\n",
       "      <td>1.41</td>\n",
       "      <td>7.30</td>\n",
       "      <td>0.70</td>\n",
       "      <td>1.56</td>\n",
       "      <td>750</td>\n",
       "    </tr>\n",
       "    <tr>\n",
       "      <th>175</th>\n",
       "      <td>3</td>\n",
       "      <td>13.27</td>\n",
       "      <td>4.28</td>\n",
       "      <td>2.26</td>\n",
       "      <td>20.0</td>\n",
       "      <td>120</td>\n",
       "      <td>1.59</td>\n",
       "      <td>0.69</td>\n",
       "      <td>0.43</td>\n",
       "      <td>1.35</td>\n",
       "      <td>10.20</td>\n",
       "      <td>0.59</td>\n",
       "      <td>1.56</td>\n",
       "      <td>835</td>\n",
       "    </tr>\n",
       "    <tr>\n",
       "      <th>176</th>\n",
       "      <td>3</td>\n",
       "      <td>13.17</td>\n",
       "      <td>2.59</td>\n",
       "      <td>2.37</td>\n",
       "      <td>20.0</td>\n",
       "      <td>120</td>\n",
       "      <td>1.65</td>\n",
       "      <td>0.68</td>\n",
       "      <td>0.53</td>\n",
       "      <td>1.46</td>\n",
       "      <td>9.30</td>\n",
       "      <td>0.60</td>\n",
       "      <td>1.62</td>\n",
       "      <td>840</td>\n",
       "    </tr>\n",
       "    <tr>\n",
       "      <th>177</th>\n",
       "      <td>3</td>\n",
       "      <td>14.13</td>\n",
       "      <td>4.10</td>\n",
       "      <td>2.74</td>\n",
       "      <td>24.5</td>\n",
       "      <td>96</td>\n",
       "      <td>2.05</td>\n",
       "      <td>0.76</td>\n",
       "      <td>0.56</td>\n",
       "      <td>1.35</td>\n",
       "      <td>9.20</td>\n",
       "      <td>0.61</td>\n",
       "      <td>1.60</td>\n",
       "      <td>560</td>\n",
       "    </tr>\n",
       "  </tbody>\n",
       "</table>\n",
       "<p>178 rows × 14 columns</p>\n",
       "</div>"
      ],
      "text/plain": [
       "     Type  Alcohol  Malic   Ash  Alcalinity  Magnesium  Phenols  Flavanoids  \\\n",
       "0       1    14.23   1.71  2.43        15.6        127     2.80        3.06   \n",
       "1       1    13.20   1.78  2.14        11.2        100     2.65        2.76   \n",
       "2       1    13.16   2.36  2.67        18.6        101     2.80        3.24   \n",
       "3       1    14.37   1.95  2.50        16.8        113     3.85        3.49   \n",
       "4       1    13.24   2.59  2.87        21.0        118     2.80        2.69   \n",
       "..    ...      ...    ...   ...         ...        ...      ...         ...   \n",
       "173     3    13.71   5.65  2.45        20.5         95     1.68        0.61   \n",
       "174     3    13.40   3.91  2.48        23.0        102     1.80        0.75   \n",
       "175     3    13.27   4.28  2.26        20.0        120     1.59        0.69   \n",
       "176     3    13.17   2.59  2.37        20.0        120     1.65        0.68   \n",
       "177     3    14.13   4.10  2.74        24.5         96     2.05        0.76   \n",
       "\n",
       "     Nonflavanoids  Proanthocyanins  Color   Hue  Dilution  Proline  \n",
       "0             0.28             2.29   5.64  1.04      3.92     1065  \n",
       "1             0.26             1.28   4.38  1.05      3.40     1050  \n",
       "2             0.30             2.81   5.68  1.03      3.17     1185  \n",
       "3             0.24             2.18   7.80  0.86      3.45     1480  \n",
       "4             0.39             1.82   4.32  1.04      2.93      735  \n",
       "..             ...              ...    ...   ...       ...      ...  \n",
       "173           0.52             1.06   7.70  0.64      1.74      740  \n",
       "174           0.43             1.41   7.30  0.70      1.56      750  \n",
       "175           0.43             1.35  10.20  0.59      1.56      835  \n",
       "176           0.53             1.46   9.30  0.60      1.62      840  \n",
       "177           0.56             1.35   9.20  0.61      1.60      560  \n",
       "\n",
       "[178 rows x 14 columns]"
      ]
     },
     "execution_count": 3,
     "metadata": {},
     "output_type": "execute_result"
    }
   ],
   "source": [
    "df"
   ]
  },
  {
   "cell_type": "code",
   "execution_count": 4,
   "metadata": {
    "colab": {
     "base_uri": "https://localhost:8080/",
     "height": 224
    },
    "id": "dxLS9VL8WD45",
    "outputId": "5f90d5d5-c4a6-4076-9627-29212118435e"
   },
   "outputs": [
    {
     "data": {
      "text/html": [
       "<div>\n",
       "<style scoped>\n",
       "    .dataframe tbody tr th:only-of-type {\n",
       "        vertical-align: middle;\n",
       "    }\n",
       "\n",
       "    .dataframe tbody tr th {\n",
       "        vertical-align: top;\n",
       "    }\n",
       "\n",
       "    .dataframe thead th {\n",
       "        text-align: right;\n",
       "    }\n",
       "</style>\n",
       "<table border=\"1\" class=\"dataframe\">\n",
       "  <thead>\n",
       "    <tr style=\"text-align: right;\">\n",
       "      <th></th>\n",
       "      <th>Alcohol</th>\n",
       "      <th>Malic</th>\n",
       "      <th>Ash</th>\n",
       "      <th>Alcalinity</th>\n",
       "      <th>Magnesium</th>\n",
       "      <th>Phenols</th>\n",
       "      <th>Flavanoids</th>\n",
       "      <th>Nonflavanoids</th>\n",
       "      <th>Proanthocyanins</th>\n",
       "      <th>Color</th>\n",
       "      <th>Hue</th>\n",
       "      <th>Dilution</th>\n",
       "      <th>Proline</th>\n",
       "    </tr>\n",
       "  </thead>\n",
       "  <tbody>\n",
       "    <tr>\n",
       "      <th>0</th>\n",
       "      <td>14.23</td>\n",
       "      <td>1.71</td>\n",
       "      <td>2.43</td>\n",
       "      <td>15.6</td>\n",
       "      <td>127</td>\n",
       "      <td>2.80</td>\n",
       "      <td>3.06</td>\n",
       "      <td>0.28</td>\n",
       "      <td>2.29</td>\n",
       "      <td>5.64</td>\n",
       "      <td>1.04</td>\n",
       "      <td>3.92</td>\n",
       "      <td>1065</td>\n",
       "    </tr>\n",
       "    <tr>\n",
       "      <th>1</th>\n",
       "      <td>13.20</td>\n",
       "      <td>1.78</td>\n",
       "      <td>2.14</td>\n",
       "      <td>11.2</td>\n",
       "      <td>100</td>\n",
       "      <td>2.65</td>\n",
       "      <td>2.76</td>\n",
       "      <td>0.26</td>\n",
       "      <td>1.28</td>\n",
       "      <td>4.38</td>\n",
       "      <td>1.05</td>\n",
       "      <td>3.40</td>\n",
       "      <td>1050</td>\n",
       "    </tr>\n",
       "    <tr>\n",
       "      <th>2</th>\n",
       "      <td>13.16</td>\n",
       "      <td>2.36</td>\n",
       "      <td>2.67</td>\n",
       "      <td>18.6</td>\n",
       "      <td>101</td>\n",
       "      <td>2.80</td>\n",
       "      <td>3.24</td>\n",
       "      <td>0.30</td>\n",
       "      <td>2.81</td>\n",
       "      <td>5.68</td>\n",
       "      <td>1.03</td>\n",
       "      <td>3.17</td>\n",
       "      <td>1185</td>\n",
       "    </tr>\n",
       "    <tr>\n",
       "      <th>3</th>\n",
       "      <td>14.37</td>\n",
       "      <td>1.95</td>\n",
       "      <td>2.50</td>\n",
       "      <td>16.8</td>\n",
       "      <td>113</td>\n",
       "      <td>3.85</td>\n",
       "      <td>3.49</td>\n",
       "      <td>0.24</td>\n",
       "      <td>2.18</td>\n",
       "      <td>7.80</td>\n",
       "      <td>0.86</td>\n",
       "      <td>3.45</td>\n",
       "      <td>1480</td>\n",
       "    </tr>\n",
       "    <tr>\n",
       "      <th>4</th>\n",
       "      <td>13.24</td>\n",
       "      <td>2.59</td>\n",
       "      <td>2.87</td>\n",
       "      <td>21.0</td>\n",
       "      <td>118</td>\n",
       "      <td>2.80</td>\n",
       "      <td>2.69</td>\n",
       "      <td>0.39</td>\n",
       "      <td>1.82</td>\n",
       "      <td>4.32</td>\n",
       "      <td>1.04</td>\n",
       "      <td>2.93</td>\n",
       "      <td>735</td>\n",
       "    </tr>\n",
       "  </tbody>\n",
       "</table>\n",
       "</div>"
      ],
      "text/plain": [
       "   Alcohol  Malic   Ash  Alcalinity  Magnesium  Phenols  Flavanoids  \\\n",
       "0    14.23   1.71  2.43        15.6        127     2.80        3.06   \n",
       "1    13.20   1.78  2.14        11.2        100     2.65        2.76   \n",
       "2    13.16   2.36  2.67        18.6        101     2.80        3.24   \n",
       "3    14.37   1.95  2.50        16.8        113     3.85        3.49   \n",
       "4    13.24   2.59  2.87        21.0        118     2.80        2.69   \n",
       "\n",
       "   Nonflavanoids  Proanthocyanins  Color   Hue  Dilution  Proline  \n",
       "0           0.28             2.29   5.64  1.04      3.92     1065  \n",
       "1           0.26             1.28   4.38  1.05      3.40     1050  \n",
       "2           0.30             2.81   5.68  1.03      3.17     1185  \n",
       "3           0.24             2.18   7.80  0.86      3.45     1480  \n",
       "4           0.39             1.82   4.32  1.04      2.93      735  "
      ]
     },
     "execution_count": 4,
     "metadata": {},
     "output_type": "execute_result"
    }
   ],
   "source": [
    "df1=df.iloc[:,1:]\n",
    "df1.head()"
   ]
  },
  {
   "cell_type": "code",
   "execution_count": 5,
   "metadata": {
    "id": "huxMCDQDWD46"
   },
   "outputs": [],
   "source": [
    "df2=df1.values"
   ]
  },
  {
   "cell_type": "code",
   "execution_count": 6,
   "metadata": {
    "colab": {
     "base_uri": "https://localhost:8080/"
    },
    "id": "06QXNfZuWD47",
    "outputId": "96eddea2-3ad3-4746-be47-93971a0ff4f1"
   },
   "outputs": [
    {
     "data": {
      "text/plain": [
       "array([[1.423e+01, 1.710e+00, 2.430e+00, ..., 1.040e+00, 3.920e+00,\n",
       "        1.065e+03],\n",
       "       [1.320e+01, 1.780e+00, 2.140e+00, ..., 1.050e+00, 3.400e+00,\n",
       "        1.050e+03],\n",
       "       [1.316e+01, 2.360e+00, 2.670e+00, ..., 1.030e+00, 3.170e+00,\n",
       "        1.185e+03],\n",
       "       ...,\n",
       "       [1.327e+01, 4.280e+00, 2.260e+00, ..., 5.900e-01, 1.560e+00,\n",
       "        8.350e+02],\n",
       "       [1.317e+01, 2.590e+00, 2.370e+00, ..., 6.000e-01, 1.620e+00,\n",
       "        8.400e+02],\n",
       "       [1.413e+01, 4.100e+00, 2.740e+00, ..., 6.100e-01, 1.600e+00,\n",
       "        5.600e+02]])"
      ]
     },
     "execution_count": 6,
     "metadata": {},
     "output_type": "execute_result"
    }
   ],
   "source": [
    "df2"
   ]
  },
  {
   "cell_type": "code",
   "execution_count": 7,
   "metadata": {
    "id": "Y8n2Q6apWD48"
   },
   "outputs": [],
   "source": [
    "uni_normal = scale(df2)"
   ]
  },
  {
   "cell_type": "code",
   "execution_count": 8,
   "metadata": {
    "colab": {
     "base_uri": "https://localhost:8080/"
    },
    "id": "bKcksWYaWD48",
    "outputId": "d523c2eb-fc80-4f31-da40-c1d57124bfa4"
   },
   "outputs": [
    {
     "data": {
      "text/plain": [
       "array([[ 1.51861254, -0.5622498 ,  0.23205254, ...,  0.36217728,\n",
       "         1.84791957,  1.01300893],\n",
       "       [ 0.24628963, -0.49941338, -0.82799632, ...,  0.40605066,\n",
       "         1.1134493 ,  0.96524152],\n",
       "       [ 0.19687903,  0.02123125,  1.10933436, ...,  0.31830389,\n",
       "         0.78858745,  1.39514818],\n",
       "       ...,\n",
       "       [ 0.33275817,  1.74474449, -0.38935541, ..., -1.61212515,\n",
       "        -1.48544548,  0.28057537],\n",
       "       [ 0.20923168,  0.22769377,  0.01273209, ..., -1.56825176,\n",
       "        -1.40069891,  0.29649784],\n",
       "       [ 1.39508604,  1.58316512,  1.36520822, ..., -1.52437837,\n",
       "        -1.42894777, -0.59516041]])"
      ]
     },
     "execution_count": 8,
     "metadata": {},
     "output_type": "execute_result"
    }
   ],
   "source": [
    "uni_normal"
   ]
  },
  {
   "cell_type": "code",
   "execution_count": 9,
   "metadata": {
    "id": "PVp0Zp6AWD4-"
   },
   "outputs": [],
   "source": [
    "pca=PCA()"
   ]
  },
  {
   "cell_type": "code",
   "execution_count": 10,
   "metadata": {
    "id": "d8iX_jeXWD5B"
   },
   "outputs": [],
   "source": [
    "pca_values=pca.fit_transform(uni_normal)"
   ]
  },
  {
   "cell_type": "code",
   "execution_count": 11,
   "metadata": {
    "colab": {
     "base_uri": "https://localhost:8080/"
    },
    "id": "k4y8ETCOWD5C",
    "outputId": "8e5c6799-89ea-4f01-c190-eb5c25bfe847"
   },
   "outputs": [
    {
     "data": {
      "text/plain": [
       "array([[ 3.31675081e+00, -1.44346263e+00, -1.65739045e-01, ...,\n",
       "        -4.51563395e-01,  5.40810414e-01, -6.62386309e-02],\n",
       "       [ 2.20946492e+00,  3.33392887e-01, -2.02645737e+00, ...,\n",
       "        -1.42657306e-01,  3.88237741e-01,  3.63650247e-03],\n",
       "       [ 2.51674015e+00, -1.03115130e+00,  9.82818670e-01, ...,\n",
       "        -2.86672847e-01,  5.83573183e-04,  2.17165104e-02],\n",
       "       ...,\n",
       "       [-2.67783946e+00, -2.76089913e+00, -9.40941877e-01, ...,\n",
       "         5.12492025e-01,  6.98766451e-01,  7.20776948e-02],\n",
       "       [-2.38701709e+00, -2.29734668e+00, -5.50696197e-01, ...,\n",
       "         2.99821968e-01,  3.39820654e-01, -2.18657605e-02],\n",
       "       [-3.20875816e+00, -2.76891957e+00,  1.01391366e+00, ...,\n",
       "        -2.29964331e-01, -1.88787963e-01, -3.23964720e-01]])"
      ]
     },
     "execution_count": 11,
     "metadata": {},
     "output_type": "execute_result"
    }
   ],
   "source": [
    "pca_values"
   ]
  },
  {
   "cell_type": "code",
   "execution_count": 12,
   "metadata": {
    "id": "N7w29uCtWD5D"
   },
   "outputs": [],
   "source": [
    "pca=PCA(n_components=13)\n",
    "pca_values=pca.fit_transform(uni_normal)"
   ]
  },
  {
   "cell_type": "code",
   "execution_count": 13,
   "metadata": {
    "colab": {
     "base_uri": "https://localhost:8080/"
    },
    "id": "fpfYCQ8QWD5G",
    "outputId": "50291d13-2ebd-4db5-8dd1-95da5ac100c8"
   },
   "outputs": [
    {
     "data": {
      "text/plain": [
       "PCA(n_components=13)"
      ]
     },
     "execution_count": 13,
     "metadata": {},
     "output_type": "execute_result"
    }
   ],
   "source": [
    "pca"
   ]
  },
  {
   "cell_type": "code",
   "execution_count": 14,
   "metadata": {
    "colab": {
     "base_uri": "https://localhost:8080/"
    },
    "id": "K3NRCU7CWD5H",
    "outputId": "a33ec86e-ebce-4e56-fccd-4c1b4e2623ea"
   },
   "outputs": [
    {
     "data": {
      "text/plain": [
       "array([4.73243698, 2.51108093, 1.45424187, 0.92416587, 0.85804868,\n",
       "       0.64528221, 0.55414147, 0.35046627, 0.29051203, 0.25232001,\n",
       "       0.22706428, 0.16972374, 0.10396199])"
      ]
     },
     "execution_count": 14,
     "metadata": {},
     "output_type": "execute_result"
    }
   ],
   "source": [
    "pca.explained_variance_"
   ]
  },
  {
   "cell_type": "code",
   "execution_count": 15,
   "metadata": {
    "id": "7NY3Ly-qWD5I"
   },
   "outputs": [],
   "source": [
    "var=pca.explained_variance_ratio_"
   ]
  },
  {
   "cell_type": "code",
   "execution_count": 16,
   "metadata": {
    "colab": {
     "base_uri": "https://localhost:8080/"
    },
    "id": "Gfg9MUhOWD5I",
    "outputId": "0bb9a2b2-9c03-4fe3-b3d0-40db458a1d60"
   },
   "outputs": [
    {
     "data": {
      "text/plain": [
       "array([0.36198848, 0.1920749 , 0.11123631, 0.0706903 , 0.06563294,\n",
       "       0.04935823, 0.04238679, 0.02680749, 0.02222153, 0.01930019,\n",
       "       0.01736836, 0.01298233, 0.00795215])"
      ]
     },
     "execution_count": 16,
     "metadata": {},
     "output_type": "execute_result"
    }
   ],
   "source": [
    "var"
   ]
  },
  {
   "cell_type": "code",
   "execution_count": 17,
   "metadata": {
    "id": "UTZbKo76WD5J"
   },
   "outputs": [],
   "source": [
    "var1=np.cumsum(np.round(var,decimals=4)*100)"
   ]
  },
  {
   "cell_type": "code",
   "execution_count": 18,
   "metadata": {
    "colab": {
     "base_uri": "https://localhost:8080/"
    },
    "id": "lVQ1GucFWD5K",
    "outputId": "5bc7ba3a-1cbe-4f51-d77e-5e7f0e0e6616"
   },
   "outputs": [
    {
     "data": {
      "text/plain": [
       "array([ 36.2 ,  55.41,  66.53,  73.6 ,  80.16,  85.1 ,  89.34,  92.02,\n",
       "        94.24,  96.17,  97.91,  99.21, 100.01])"
      ]
     },
     "execution_count": 18,
     "metadata": {},
     "output_type": "execute_result"
    }
   ],
   "source": [
    "var1"
   ]
  },
  {
   "cell_type": "code",
   "execution_count": 19,
   "metadata": {
    "colab": {
     "base_uri": "https://localhost:8080/",
     "height": 282
    },
    "id": "0thxFamVWD5L",
    "outputId": "ef1afaa6-d576-4e3c-deae-45a2e66cf0dc"
   },
   "outputs": [
    {
     "data": {
      "text/plain": [
       "[<matplotlib.lines.Line2D at 0x1a00f517ca0>]"
      ]
     },
     "execution_count": 19,
     "metadata": {},
     "output_type": "execute_result"
    },
    {
     "data": {
      "image/png": "[encoded data removed]",
      "text/plain": [
       "<Figure size 432x288 with 1 Axes>"
      ]
     },
     "metadata": {
      "needs_background": "light"
     },
     "output_type": "display_data"
    }
   ],
   "source": [
    "#Variance plot for PCA components obtained \n",
    "plt.plot(var1,color=\"blue\")"
   ]
  },
  {
   "cell_type": "code",
   "execution_count": 20,
   "metadata": {
    "id": "MI3aX42AWD5L",
    "outputId": "a20b9b56-8456-4da0-b657-65bf01d1f484"
   },
   "outputs": [
    {
     "data": {
      "text/plain": [
       "array([[ 3.31675081e+00, -1.44346263e+00, -1.65739045e-01,\n",
       "        -2.15631188e-01],\n",
       "       [ 2.20946492e+00,  3.33392887e-01, -2.02645737e+00,\n",
       "        -2.91358318e-01],\n",
       "       [ 2.51674015e+00, -1.03115130e+00,  9.82818670e-01,\n",
       "         7.24902309e-01],\n",
       "       [ 3.75706561e+00, -2.75637191e+00, -1.76191842e-01,\n",
       "         5.67983308e-01],\n",
       "       [ 1.00890849e+00, -8.69830821e-01,  2.02668822e+00,\n",
       "        -4.09765788e-01],\n",
       "       [ 3.05025392e+00, -2.12240111e+00, -6.29395827e-01,\n",
       "        -5.15637495e-01],\n",
       "       [ 2.44908967e+00, -1.17485013e+00, -9.77094891e-01,\n",
       "        -6.58305046e-02],\n",
       "       [ 2.05943687e+00, -1.60896307e+00,  1.46281883e-01,\n",
       "        -1.19260801e+00],\n",
       "       [ 2.51087430e+00, -9.18070957e-01, -1.77096903e+00,\n",
       "         5.62703612e-02],\n",
       "       [ 2.75362819e+00, -7.89437674e-01, -9.84247490e-01,\n",
       "         3.49381568e-01],\n",
       "       [ 3.47973668e+00, -1.30233324e+00, -4.22735217e-01,\n",
       "         2.68417600e-02],\n",
       "       [ 1.75475290e+00, -6.11977229e-01, -1.19087832e+00,\n",
       "        -8.90164338e-01],\n",
       "       [ 2.11346234e+00, -6.75706339e-01, -8.65086426e-01,\n",
       "        -3.56438010e-01],\n",
       "       [ 3.45815682e+00, -1.13062988e+00, -1.20427635e+00,\n",
       "         1.62458063e-01],\n",
       "       [ 4.31278391e+00, -2.09597558e+00, -1.26391275e+00,\n",
       "         3.05773190e-01],\n",
       "       [ 2.30518820e+00, -1.66255173e+00,  2.17902616e-01,\n",
       "        -1.44059003e+00],\n",
       "       [ 2.17195527e+00, -2.32730534e+00,  8.31729866e-01,\n",
       "        -9.12601275e-01],\n",
       "       [ 1.89897118e+00, -1.63136888e+00,  7.94913792e-01,\n",
       "        -1.08238039e+00],\n",
       "       [ 3.54198508e+00, -2.51834367e+00, -4.85458508e-01,\n",
       "        -9.10322807e-01],\n",
       "       [ 2.08452220e+00, -1.06113799e+00, -1.64746678e-01,\n",
       "         4.84997419e-01],\n",
       "       [ 3.12440254e+00, -7.86897106e-01, -3.64887083e-01,\n",
       "        -2.55616906e-02],\n",
       "       [ 1.08657007e+00, -2.41743551e-01,  9.36961600e-01,\n",
       "         1.02990984e+00],\n",
       "       [ 2.53522408e+00,  9.18406207e-02, -3.11932659e-01,\n",
       "        -4.83912355e-02],\n",
       "       [ 1.64498834e+00,  5.16278930e-01,  1.43885095e-01,\n",
       "        -4.13720024e-01],\n",
       "       [ 1.76157587e+00,  3.17148933e-01,  8.90285647e-01,\n",
       "        -1.15115611e-01],\n",
       "       [ 9.90079102e-01, -9.40667338e-01,  3.82090801e+00,\n",
       "        -1.32156120e+00],\n",
       "       [ 1.77527763e+00, -6.86175134e-01, -8.67004065e-02,\n",
       "        -2.32906780e-01],\n",
       "       [ 1.23542396e+00,  8.98070414e-02, -1.38689654e+00,\n",
       "        -4.95682720e-01],\n",
       "       [ 2.18840633e+00, -6.89569621e-01,  1.39456688e+00,\n",
       "        -7.77491811e-01],\n",
       "       [ 2.25610898e+00, -1.91461937e-01, -1.09265726e+00,\n",
       "         2.86152299e-01],\n",
       "       [ 2.50022003e+00, -1.24083383e+00,  1.38601785e+00,\n",
       "        -3.66865220e-01],\n",
       "       [ 2.67741105e+00, -1.47187365e+00, -3.32261728e-01,\n",
       "        -3.49353875e-01],\n",
       "       [ 1.62857912e+00, -5.27044506e-02, -1.67128706e-01,\n",
       "        -7.49314246e-01],\n",
       "       [ 1.90269086e+00, -1.63306043e+00,  1.17208212e+00,\n",
       "        -2.34042904e+00],\n",
       "       [ 1.41038853e+00, -6.97934325e-01,  4.79743025e-01,\n",
       "        -1.06008622e+00],\n",
       "       [ 1.90382623e+00, -1.76710951e-01,  4.50835040e-01,\n",
       "         2.84113552e-01],\n",
       "       [ 1.38486223e+00, -6.58639854e-01,  4.58438581e-01,\n",
       "        -1.28465815e+00],\n",
       "       [ 1.12220741e+00, -1.14109760e-01, -3.91072767e-02,\n",
       "        -9.56401223e-01],\n",
       "       [ 1.50219450e+00,  7.69432006e-01, -1.42617735e+00,\n",
       "        -7.57508093e-01],\n",
       "       [ 2.52980109e+00, -1.80300198e+00, -3.43152389e-01,\n",
       "         1.18697430e+00],\n",
       "       [ 2.58809543e+00, -7.79616304e-01, -1.18477466e-01,\n",
       "         4.75971440e-01],\n",
       "       [ 6.68481994e-01, -1.69960941e-01, -7.83362548e-01,\n",
       "         1.31308378e+00],\n",
       "       [ 3.07080699e+00, -1.15591896e+00, -3.12758084e-01,\n",
       "         5.50284635e-01],\n",
       "       [ 4.62209138e-01, -3.30742132e-01, -2.01476496e-01,\n",
       "         1.43649386e+00],\n",
       "       [ 2.10135193e+00,  7.10089210e-02, -6.55849415e-01,\n",
       "         7.57744839e-01],\n",
       "       [ 1.13616618e+00, -1.77710739e+00,  2.87057358e-02,\n",
       "         6.91831212e-01],\n",
       "       [ 2.72660096e+00, -1.19133469e+00, -5.39773261e-01,\n",
       "         1.38955067e+00],\n",
       "       [ 2.82133927e+00, -6.46258599e-01, -1.15555241e+00,\n",
       "         9.87662912e-01],\n",
       "       [ 2.00985085e+00, -1.24702946e+00, -5.72939879e-02,\n",
       "         2.30643107e-01],\n",
       "       [ 2.70749130e+00, -1.75196741e+00, -6.43113612e-01,\n",
       "        -1.00231520e-01],\n",
       "       [ 3.21491747e+00, -1.66991995e-01, -1.97357168e+00,\n",
       "         1.12068394e+00],\n",
       "       [ 2.85895983e+00, -7.45278804e-01,  4.71950216e-03,\n",
       "        -2.15276557e-01],\n",
       "       [ 3.50560436e+00, -1.61273386e+00, -5.20774530e-01,\n",
       "         1.06536424e-01],\n",
       "       [ 2.22479138e+00, -1.87516800e+00,  3.39549850e-01,\n",
       "        -1.20696658e+00],\n",
       "       [ 2.14698782e+00, -1.01675154e+00, -9.57762762e-01,\n",
       "        -2.40318190e-01],\n",
       "       [ 2.46932948e+00, -1.32900831e+00,  5.13437453e-01,\n",
       "         2.55348621e-01],\n",
       "       [ 2.74151791e+00, -1.43654878e+00, -6.12473396e-01,\n",
       "         2.05747441e-01],\n",
       "       [ 2.17374092e+00, -1.21219984e+00,  2.61779593e-01,\n",
       "        -5.04426086e-01],\n",
       "       [ 3.13938015e+00, -1.73157912e+00, -2.85661413e-01,\n",
       "         2.30567212e-01],\n",
       "       [-9.28581969e-01,  3.07348616e+00, -4.58506401e+00,\n",
       "        -1.05184439e+00],\n",
       "       [-1.54248014e+00,  1.38144351e+00, -8.74683112e-01,\n",
       "        -2.89011975e+00],\n",
       "       [-1.83624976e+00,  8.29984123e-01, -1.60570219e+00,\n",
       "        -1.45210485e+00],\n",
       "       [ 3.06068341e-02,  1.26278614e+00, -1.78440801e+00,\n",
       "        -1.20657607e+00],\n",
       "       [ 2.05026161e+00,  1.92503260e+00, -7.36877735e-03,\n",
       "         7.21321903e-01],\n",
       "       [-6.09680827e-01,  1.90805881e+00,  6.79357938e-01,\n",
       "        -2.15307609e+00],\n",
       "       [ 9.00227839e-01,  7.63911474e-01,  5.73361302e-01,\n",
       "        -6.79361634e-01],\n",
       "       [ 2.24850719e+00,  1.88459248e+00, -2.03184019e+00,\n",
       "         1.40762723e+00],\n",
       "       [ 1.83384027e-01,  2.42714611e+00, -1.06974556e+00,\n",
       "         1.27417972e-01],\n",
       "       [-8.12805027e-01,  2.20513987e-01, -7.07005396e-01,\n",
       "        -2.48898958e+00],\n",
       "       [ 1.97562050e+00,  1.40328323e+00, -1.23827622e+00,\n",
       "        -1.15230649e+00],\n",
       "       [-1.57221622e+00,  8.84983137e-01, -6.28997950e-01,\n",
       "        -1.17184641e+00],\n",
       "       [ 1.65768181e+00,  9.56712197e-01,  1.95258422e+00,\n",
       "         1.52208912e-01],\n",
       "       [-7.25372388e-01,  1.06364540e+00,  8.03322286e-02,\n",
       "        -7.60194312e-02],\n",
       "       [ 2.56222717e+00, -2.60198551e-01,  3.37439396e+00,\n",
       "        -9.79399432e-01],\n",
       "       [ 1.83256757e+00,  1.28787820e+00,  4.58280027e-01,\n",
       "         1.71350754e-01],\n",
       "       [-8.67992903e-01,  2.44410119e+00, -1.56333318e+00,\n",
       "        -8.31459859e-01],\n",
       "       [ 3.70014404e-01,  2.15390698e+00, -2.44938635e+00,\n",
       "        -1.26159044e-01],\n",
       "       [-1.45737704e+00,  1.38335177e+00, -2.27306902e-01,\n",
       "        -6.96356870e-01],\n",
       "       [ 1.26293085e+00,  7.70849530e-01, -1.18422452e+00,\n",
       "        -9.25882244e-01],\n",
       "       [ 3.76150372e-01,  1.02704340e+00,  1.79446629e+00,\n",
       "         9.78544527e-01],\n",
       "       [ 7.62063904e-01,  3.37505381e+00, -3.57470056e-01,\n",
       "        -3.66732915e-01],\n",
       "       [ 1.03457797e+00,  1.45070974e+00, -3.63011773e-01,\n",
       "         2.96595780e-01],\n",
       "       [-4.94876756e-01,  2.38124353e+00,  1.33574318e+00,\n",
       "        -1.04097884e+00],\n",
       "       [-2.53897708e+00,  8.74433573e-02,  4.74251393e-01,\n",
       "         7.58601454e-01],\n",
       "       [ 8.35320145e-01,  1.47367055e+00,  6.10093576e-01,\n",
       "         5.82951878e-01],\n",
       "       [ 7.87904615e-01,  2.02662652e+00, -2.54723404e-01,\n",
       "        -8.09418080e-01],\n",
       "       [-8.06832156e-01,  2.23383039e+00,  7.72855797e-01,\n",
       "        -1.01371575e+00],\n",
       "       [-5.58042625e-01,  2.37298543e+00,  2.30761140e+00,\n",
       "        -1.03532031e+00],\n",
       "       [-1.11511104e+00,  1.80224719e+00,  9.59253308e-01,\n",
       "        -3.31283791e-01],\n",
       "       [-5.55722830e-01,  2.65754004e+00,  8.49126898e-01,\n",
       "        -3.19764133e-03],\n",
       "       [-1.34928528e+00,  2.11800147e+00, -4.76523208e-02,\n",
       "        -4.66250567e-01],\n",
       "       [-1.56448261e+00,  1.85221452e+00,  7.81067031e-01,\n",
       "        -6.05079391e-01],\n",
       "       [-1.93255561e+00,  1.55949546e+00, -8.92746761e-02,\n",
       "        -5.22569357e-01],\n",
       "       [ 7.46665942e-01,  2.31293171e+00,  1.14679769e-01,\n",
       "         1.24853870e+00],\n",
       "       [ 9.57455364e-01,  2.22352843e+00,  1.42444774e-01,\n",
       "         3.14042947e-01],\n",
       "       [ 2.54386518e+00, -1.69274023e-01,  7.88696991e-01,\n",
       "        -1.03283704e+00],\n",
       "       [-5.43952589e-01,  3.68926546e-01,  1.30889593e+00,\n",
       "        -1.27799856e+00],\n",
       "       [ 1.03104975e+00,  2.56556935e+00, -1.08639017e+00,\n",
       "         2.63860985e-01],\n",
       "       [ 2.25190942e+00,  1.43274138e+00, -2.30208244e-01,\n",
       "         9.21171097e-01],\n",
       "       [ 1.41021602e+00,  2.16619177e+00,  7.48896411e-01,\n",
       "         1.19561119e+00],\n",
       "       [ 7.97719793e-01,  2.37694880e+00, -1.56811253e+00,\n",
       "        -3.48163602e-02],\n",
       "       [-5.49531727e-01,  2.29312864e+00, -1.49893532e+00,\n",
       "        -3.07038671e-01],\n",
       "       [-1.61173740e-01,  1.16448332e+00,  1.00371310e+00,\n",
       "         6.61686224e-01],\n",
       "       [-6.59794942e-01,  2.67996119e+00, -7.64920868e-01,\n",
       "         4.69954774e-01],\n",
       "       [ 3.92354408e-01,  2.09873171e+00, -4.71850008e-01,\n",
       "         4.37056575e-01],\n",
       "       [-1.77249908e+00,  1.71728847e+00,  9.47033174e-01,\n",
       "         2.59512586e-01],\n",
       "       [-3.66267357e-01,  2.16935330e+00, -4.81324235e-01,\n",
       "         3.98400462e-01],\n",
       "       [-1.62067257e+00,  1.35558339e+00,  2.87159001e-01,\n",
       "        -2.60245460e-02],\n",
       "       [ 8.25357835e-02,  2.30623459e+00, -4.63574989e-01,\n",
       "         8.90351023e-01],\n",
       "       [ 1.57827507e+00,  1.46203429e+00,  1.77964595e+00,\n",
       "         6.13584424e-01],\n",
       "       [ 1.42056925e+00,  1.41820664e+00,  1.39275829e-01,\n",
       "         3.43053946e+00],\n",
       "       [-2.78702754e-01,  1.93056809e+00,  7.86705530e-02,\n",
       "         9.28520741e-01],\n",
       "       [-1.30314497e+00,  7.63172314e-01,  1.99959651e+00,\n",
       "        -1.72583588e+00],\n",
       "       [-4.57071866e-01,  2.26941561e+00,  1.06133897e+00,\n",
       "        -8.37432054e-01],\n",
       "       [-4.94185847e-01,  1.93904505e+00,  1.32393807e+00,\n",
       "        -6.15972483e-02],\n",
       "       [ 4.82074410e-01,  3.87178385e+00,  1.34427122e+00,\n",
       "        -8.99910492e-01],\n",
       "       [-2.52888878e-01,  2.82149237e+00, -3.02639785e-01,\n",
       "         4.57967101e-01],\n",
       "       [-1.07227638e-01,  1.92892204e+00,  6.90148243e-01,\n",
       "        -2.73722484e-01],\n",
       "       [-2.43301260e+00,  1.25714104e+00, -1.90302740e+00,\n",
       "         8.69731905e-01],\n",
       "       [-5.51089539e-01,  2.22216155e+00, -3.56228830e-01,\n",
       "         1.36331989e+00],\n",
       "       [ 7.39621929e-01,  1.40895667e+00,  1.12534549e+00,\n",
       "         1.20511147e+00],\n",
       "       [ 1.33632173e+00, -2.53336931e-01,  5.34538818e+00,\n",
       "         2.39037513e-01],\n",
       "       [-1.17708700e+00,  6.63966840e-01,  3.01022189e+00,\n",
       "         1.16613696e+00],\n",
       "       [-4.62335008e-01,  6.18288179e-01,  4.83442366e-01,\n",
       "         3.57672436e+00],\n",
       "       [ 9.78474079e-01,  1.44557050e+00,  1.48123697e+00,\n",
       "         3.79033509e+00],\n",
       "       [-9.68097263e-02,  2.10999799e+00,  4.34826116e-01,\n",
       "         1.05469528e+00],\n",
       "       [ 3.84871459e-02,  1.26676211e+00,  6.87577913e-01,\n",
       "         1.27288418e+00],\n",
       "       [-1.59715850e+00,  1.20814357e+00,  3.36117556e+00,\n",
       "        -2.19277553e-01],\n",
       "       [-4.79564916e-01,  1.93884066e+00,  1.29650752e+00,\n",
       "         6.86976225e-01],\n",
       "       [-1.79283347e+00,  1.15028810e+00,  7.82800173e-01,\n",
       "         1.47877897e+00],\n",
       "       [-1.32710166e+00, -1.70389232e-01, -1.18001336e+00,\n",
       "        -1.50170981e+00],\n",
       "       [-2.38450083e+00, -3.74582606e-01, -7.23822595e-01,\n",
       "        -3.08194983e-01],\n",
       "       [-2.93694010e+00, -2.63861830e-01, -1.67639816e-01,\n",
       "        -4.08773422e-01],\n",
       "       [-2.14681113e+00, -3.68254952e-01, -4.53301301e-01,\n",
       "         4.85275651e-02],\n",
       "       [-2.36986949e+00,  4.59634809e-01, -1.10139979e+00,\n",
       "        -8.56777335e-01],\n",
       "       [-3.06384157e+00, -3.53412835e-01, -1.09912410e+00,\n",
       "        -7.40398132e-01],\n",
       "       [-3.91575378e+00, -1.54582519e-01,  2.21827800e-01,\n",
       "        -9.06832745e-03],\n",
       "       [-3.93646339e+00, -6.59687233e-01,  1.71221542e+00,\n",
       "         5.45483801e-01],\n",
       "       [-3.09427612e+00, -3.48842759e-01, -1.02683141e+00,\n",
       "        -7.13492080e-02],\n",
       "       [-2.37447163e+00, -2.91980352e-01,  1.24191433e+00,\n",
       "        -7.48805540e-01],\n",
       "       [-2.77881295e+00, -2.86804873e-01,  6.09670124e-01,\n",
       "        -8.79346886e-01],\n",
       "       [-2.28656128e+00, -3.72507845e-01, -9.71643032e-01,\n",
       "        -3.71437736e-01],\n",
       "       [-2.98563349e+00, -4.89217908e-01,  9.46952932e-01,\n",
       "        -1.03622559e+00],\n",
       "       [-2.37519470e+00, -4.82333717e-01, -2.52883994e-01,\n",
       "         6.71149264e-01],\n",
       "       [-2.20986553e+00, -1.16005250e+00, -1.24512523e+00,\n",
       "         3.18838188e-01],\n",
       "       [-2.62562100e+00, -5.63160764e-01, -8.55961082e-01,\n",
       "         2.75684026e-01],\n",
       "       [-4.28063878e+00, -6.49670964e-01, -1.45819696e+00,\n",
       "         1.12816430e+00],\n",
       "       [-3.58264137e+00, -1.27270275e+00, -1.10784038e-01,\n",
       "         1.04990904e+00],\n",
       "       [-2.80706372e+00, -1.57053379e+00, -4.72527935e-01,\n",
       "         6.27358450e-01],\n",
       "       [-2.89965933e+00, -2.04105701e+00, -4.95959810e-01,\n",
       "         4.71155615e-01],\n",
       "       [-2.32073698e+00, -2.35636608e+00,  4.37681744e-01,\n",
       "        -5.22597755e-02],\n",
       "       [-2.54983095e+00, -2.04528309e+00, -3.12267999e-01,\n",
       "         3.86971682e-01],\n",
       "       [-1.81254128e+00, -1.52764595e+00,  1.36258978e+00,\n",
       "        -1.89395906e-01],\n",
       "       [-2.76014464e+00, -2.13893235e+00, -9.64628688e-01,\n",
       "         6.68386112e-01],\n",
       "       [-2.73715050e+00, -4.09886271e-01, -1.19040468e+00,\n",
       "        -6.63045204e-01],\n",
       "       [-3.60486887e+00, -1.80238422e+00, -9.40368613e-02,\n",
       "         1.26884047e+00],\n",
       "       [-2.88982600e+00, -1.92521861e+00, -7.82322556e-01,\n",
       "         1.32472540e+00],\n",
       "       [-3.39215608e+00, -1.31187639e+00,  1.60202597e+00,\n",
       "        -4.82842144e-01],\n",
       "       [-1.04818190e+00, -3.51508969e+00,  1.16003857e+00,\n",
       "         9.35329394e-01],\n",
       "       [-1.60991228e+00, -2.40663816e+00,  5.48559697e-01,\n",
       "         7.54309684e-01],\n",
       "       [-3.14313097e+00, -7.38161044e-01, -9.09987239e-02,\n",
       "         9.80647845e-01],\n",
       "       [-2.24015690e+00, -1.17546529e+00, -1.01376932e-01,\n",
       "        -1.16527872e+00],\n",
       "       [-2.84767378e+00, -5.56043966e-01,  8.04215218e-01,\n",
       "        -8.97888066e-01],\n",
       "       [-2.59749706e+00, -6.97965537e-01, -8.84939521e-01,\n",
       "        -2.74228748e-01],\n",
       "       [-2.94929937e+00, -1.55530896e+00, -9.83400727e-01,\n",
       "         1.54803469e-02],\n",
       "       [-3.53003227e+00, -8.82526796e-01, -4.66029128e-01,\n",
       "         5.80789625e-01],\n",
       "       [-2.40611054e+00, -2.59235618e+00,  4.28226211e-01,\n",
       "        -1.84335092e-01],\n",
       "       [-2.92908473e+00, -1.27444695e+00, -1.21335827e+00,\n",
       "         2.95316047e-01],\n",
       "       [-2.18141278e+00, -2.07753731e+00,  7.63782552e-01,\n",
       "        -3.89593322e-01],\n",
       "       [-2.38092779e+00, -2.58866743e+00,  1.41804403e+00,\n",
       "         5.88501936e-01],\n",
       "       [-3.21161722e+00,  2.51249104e-01, -8.47129152e-01,\n",
       "        -2.17065355e-01],\n",
       "       [-3.67791872e+00, -8.47747844e-01, -1.33942023e+00,\n",
       "        -1.25175865e-01],\n",
       "       [-2.46555580e+00, -2.19379830e+00, -9.18780960e-01,\n",
       "         1.80249950e-02],\n",
       "       [-3.37052415e+00, -2.21628914e+00, -3.42569512e-01,\n",
       "         1.05852684e+00],\n",
       "       [-2.60195585e+00, -1.75722935e+00,  2.07581355e-01,\n",
       "         3.49496422e-01],\n",
       "       [-2.67783946e+00, -2.76089913e+00, -9.40941877e-01,\n",
       "         3.12034746e-01],\n",
       "       [-2.38701709e+00, -2.29734668e+00, -5.50696197e-01,\n",
       "        -6.88284548e-01],\n",
       "       [-3.20875816e+00, -2.76891957e+00,  1.01391366e+00,\n",
       "         5.96903186e-01]])"
      ]
     },
     "execution_count": 20,
     "metadata": {},
     "output_type": "execute_result"
    }
   ],
   "source": [
    "pca_values[:,0:4]"
   ]
  },
  {
   "cell_type": "code",
   "execution_count": 21,
   "metadata": {
    "id": "L1OUKkaZWD5M"
   },
   "outputs": [],
   "source": [
    "finalDf = pd.concat([pd.DataFrame(pca_values[:,0:3],columns=['pc1','pc2','pc3']), df[['Type']]], axis = 1)"
   ]
  },
  {
   "cell_type": "code",
   "execution_count": 22,
   "metadata": {
    "colab": {
     "base_uri": "https://localhost:8080/",
     "height": 419
    },
    "id": "YvMuch3tWD5N",
    "outputId": "8f698e1e-6d72-4aa7-acdb-47c319bf9864"
   },
   "outputs": [
    {
     "data": {
      "text/html": [
       "<div>\n",
       "<style scoped>\n",
       "    .dataframe tbody tr th:only-of-type {\n",
       "        vertical-align: middle;\n",
       "    }\n",
       "\n",
       "    .dataframe tbody tr th {\n",
       "        vertical-align: top;\n",
       "    }\n",
       "\n",
       "    .dataframe thead th {\n",
       "        text-align: right;\n",
       "    }\n",
       "</style>\n",
       "<table border=\"1\" class=\"dataframe\">\n",
       "  <thead>\n",
       "    <tr style=\"text-align: right;\">\n",
       "      <th></th>\n",
       "      <th>pc1</th>\n",
       "      <th>pc2</th>\n",
       "      <th>pc3</th>\n",
       "      <th>Type</th>\n",
       "    </tr>\n",
       "  </thead>\n",
       "  <tbody>\n",
       "    <tr>\n",
       "      <th>0</th>\n",
       "      <td>3.316751</td>\n",
       "      <td>-1.443463</td>\n",
       "      <td>-0.165739</td>\n",
       "      <td>1</td>\n",
       "    </tr>\n",
       "    <tr>\n",
       "      <th>1</th>\n",
       "      <td>2.209465</td>\n",
       "      <td>0.333393</td>\n",
       "      <td>-2.026457</td>\n",
       "      <td>1</td>\n",
       "    </tr>\n",
       "    <tr>\n",
       "      <th>2</th>\n",
       "      <td>2.516740</td>\n",
       "      <td>-1.031151</td>\n",
       "      <td>0.982819</td>\n",
       "      <td>1</td>\n",
       "    </tr>\n",
       "    <tr>\n",
       "      <th>3</th>\n",
       "      <td>3.757066</td>\n",
       "      <td>-2.756372</td>\n",
       "      <td>-0.176192</td>\n",
       "      <td>1</td>\n",
       "    </tr>\n",
       "    <tr>\n",
       "      <th>4</th>\n",
       "      <td>1.008908</td>\n",
       "      <td>-0.869831</td>\n",
       "      <td>2.026688</td>\n",
       "      <td>1</td>\n",
       "    </tr>\n",
       "    <tr>\n",
       "      <th>...</th>\n",
       "      <td>...</td>\n",
       "      <td>...</td>\n",
       "      <td>...</td>\n",
       "      <td>...</td>\n",
       "    </tr>\n",
       "    <tr>\n",
       "      <th>173</th>\n",
       "      <td>-3.370524</td>\n",
       "      <td>-2.216289</td>\n",
       "      <td>-0.342570</td>\n",
       "      <td>3</td>\n",
       "    </tr>\n",
       "    <tr>\n",
       "      <th>174</th>\n",
       "      <td>-2.601956</td>\n",
       "      <td>-1.757229</td>\n",
       "      <td>0.207581</td>\n",
       "      <td>3</td>\n",
       "    </tr>\n",
       "    <tr>\n",
       "      <th>175</th>\n",
       "      <td>-2.677839</td>\n",
       "      <td>-2.760899</td>\n",
       "      <td>-0.940942</td>\n",
       "      <td>3</td>\n",
       "    </tr>\n",
       "    <tr>\n",
       "      <th>176</th>\n",
       "      <td>-2.387017</td>\n",
       "      <td>-2.297347</td>\n",
       "      <td>-0.550696</td>\n",
       "      <td>3</td>\n",
       "    </tr>\n",
       "    <tr>\n",
       "      <th>177</th>\n",
       "      <td>-3.208758</td>\n",
       "      <td>-2.768920</td>\n",
       "      <td>1.013914</td>\n",
       "      <td>3</td>\n",
       "    </tr>\n",
       "  </tbody>\n",
       "</table>\n",
       "<p>178 rows × 4 columns</p>\n",
       "</div>"
      ],
      "text/plain": [
       "          pc1       pc2       pc3  Type\n",
       "0    3.316751 -1.443463 -0.165739     1\n",
       "1    2.209465  0.333393 -2.026457     1\n",
       "2    2.516740 -1.031151  0.982819     1\n",
       "3    3.757066 -2.756372 -0.176192     1\n",
       "4    1.008908 -0.869831  2.026688     1\n",
       "..        ...       ...       ...   ...\n",
       "173 -3.370524 -2.216289 -0.342570     3\n",
       "174 -2.601956 -1.757229  0.207581     3\n",
       "175 -2.677839 -2.760899 -0.940942     3\n",
       "176 -2.387017 -2.297347 -0.550696     3\n",
       "177 -3.208758 -2.768920  1.013914     3\n",
       "\n",
       "[178 rows x 4 columns]"
      ]
     },
     "execution_count": 22,
     "metadata": {},
     "output_type": "execute_result"
    }
   ],
   "source": [
    "finalDf"
   ]
  },
  {
   "cell_type": "code",
   "execution_count": 23,
   "metadata": {
    "id": "u_KhTD9VWD5O",
    "outputId": "62b8b2c1-f641-4e17-9c75-3a7dbcf6874a"
   },
   "outputs": [
    {
     "data": {
      "text/plain": [
       "<AxesSubplot:xlabel='pc1', ylabel='pc2'>"
      ]
     },
     "execution_count": 23,
     "metadata": {},
     "output_type": "execute_result"
    },
    {
     "data": {
      "image/png": "[encoded data removed]",
      "text/plain": [
       "<Figure size 432x288 with 1 Axes>"
      ]
     },
     "metadata": {
      "needs_background": "light"
     },
     "output_type": "display_data"
    }
   ],
   "source": [
    "import seaborn as sns\n",
    "sns.scatterplot(data=finalDf,x='pc1',y='pc2',hue='Type')"
   ]
  },
  {
   "cell_type": "code",
   "execution_count": 24,
   "metadata": {},
   "outputs": [
    {
     "data": {
      "text/plain": [
       "<AxesSubplot:xlabel='pc1', ylabel='pc3'>"
      ]
     },
     "execution_count": 24,
     "metadata": {},
     "output_type": "execute_result"
    },
    {
     "data": {
      "image/png": "[encoded data removed]",
      "text/plain": [
       "<Figure size 432x288 with 1 Axes>"
      ]
     },
     "metadata": {
      "needs_background": "light"
     },
     "output_type": "display_data"
    }
   ],
   "source": [
    "import seaborn as sns\n",
    "sns.scatterplot(data=finalDf,x='pc1',y='pc3',hue='Type')"
   ]
  },
  {
   "cell_type": "code",
   "execution_count": 25,
   "metadata": {},
   "outputs": [
    {
     "data": {
      "text/plain": [
       "<AxesSubplot:xlabel='pc2', ylabel='pc3'>"
      ]
     },
     "execution_count": 25,
     "metadata": {},
     "output_type": "execute_result"
    },
    {
     "data": {
      "image/png": "[encoded data removed]",
      "text/plain": [
       "<Figure size 432x288 with 1 Axes>"
      ]
     },
     "metadata": {
      "needs_background": "light"
     },
     "output_type": "display_data"
    }
   ],
   "source": [
    "import seaborn as sns\n",
    "sns.scatterplot(data=finalDf,x='pc2',y='pc3',hue='Type')"
   ]
  },
  {
   "cell_type": "code",
   "execution_count": 26,
   "metadata": {
    "id": "jMVMLZj-WD5P"
   },
   "outputs": [],
   "source": [
    "#heirarchial and k mean clustering\n",
    "import scipy.cluster.hierarchy as sch\n",
    "from sklearn.cluster import AgglomerativeClustering\n",
    "import numpy as np\n",
    "import pandas as pd\n",
    "from matplotlib import pyplot as plt\n",
    "import seaborn as sn"
   ]
  },
  {
   "cell_type": "code",
   "execution_count": 27,
   "metadata": {},
   "outputs": [],
   "source": [
    "#normalization\n",
    "from sklearn.preprocessing import MinMaxScaler\n",
    "mnscaler = MinMaxScaler().fit(finalDf)\n",
    "X = mnscaler.transform(finalDf)\n"
   ]
  },
  {
   "cell_type": "code",
   "execution_count": 28,
   "metadata": {
    "colab": {
     "base_uri": "https://localhost:8080/",
     "height": 282
    },
    "id": "MgIckotpWD5R",
    "outputId": "31b2b709-87ee-47b1-839e-ce2a32b32eb2"
   },
   "outputs": [
    {
     "data": {
      "image/png": "[encoded data removed]",
      "text/plain": [
       "<Figure size 432x288 with 1 Axes>"
      ]
     },
     "metadata": {
      "needs_background": "light"
     },
     "output_type": "display_data"
    }
   ],
   "source": [
    "dendrogram = sch.dendrogram(sch.linkage(X, method='complete'))"
   ]
  },
  {
   "cell_type": "code",
   "execution_count": 29,
   "metadata": {
    "id": "Yc8SPI85WD5S"
   },
   "outputs": [],
   "source": [
    "hc = AgglomerativeClustering(n_clusters=3, affinity = 'euclidean', linkage = 'single')"
   ]
  },
  {
   "cell_type": "code",
   "execution_count": 30,
   "metadata": {
    "id": "Ti1Z1Z0SWD5S",
    "outputId": "9b59df1a-c145-485c-b88f-34f44124a640"
   },
   "outputs": [
    {
     "data": {
      "text/plain": [
       "AgglomerativeClustering(linkage='single', n_clusters=3)"
      ]
     },
     "execution_count": 30,
     "metadata": {},
     "output_type": "execute_result"
    }
   ],
   "source": [
    "hc"
   ]
  },
  {
   "cell_type": "code",
   "execution_count": 31,
   "metadata": {
    "id": "O1AULMSVWD5T"
   },
   "outputs": [],
   "source": [
    "y_hc = hc.fit_predict(X)\n",
    "Clusters=pd.DataFrame(y_hc,columns=['Clusters'])"
   ]
  },
  {
   "cell_type": "code",
   "execution_count": 32,
   "metadata": {
    "id": "fz1pCs7LWD5T"
   },
   "outputs": [],
   "source": [
    "finalDf['h_clusters']=hc.labels_"
   ]
  },
  {
   "cell_type": "code",
   "execution_count": 33,
   "metadata": {
    "id": "IFR6Fd6fWD5U",
    "outputId": "56173eb3-29ca-4462-9407-25bea590c9d7"
   },
   "outputs": [
    {
     "data": {
      "text/plain": [
       "array([2, 2, 2, 2, 2, 2, 2, 2, 2, 2, 2, 2, 2, 2, 2, 2, 2, 2, 2, 2, 2, 2,\n",
       "       2, 2, 2, 2, 2, 2, 2, 2, 2, 2, 2, 2, 2, 2, 2, 2, 2, 2, 2, 2, 2, 2,\n",
       "       2, 2, 2, 2, 2, 2, 2, 2, 2, 2, 2, 2, 2, 2, 2, 0, 0, 0, 0, 0, 0, 0,\n",
       "       0, 0, 0, 0, 0, 0, 0, 0, 0, 0, 0, 0, 0, 0, 0, 0, 0, 0, 0, 0, 0, 0,\n",
       "       0, 0, 0, 0, 0, 0, 0, 0, 0, 0, 0, 0, 0, 0, 0, 0, 0, 0, 0, 0, 0, 0,\n",
       "       0, 0, 0, 0, 0, 0, 0, 0, 0, 0, 0, 0, 0, 0, 0, 0, 0, 0, 0, 0, 1, 1,\n",
       "       1, 1, 1, 1, 1, 1, 1, 1, 1, 1, 1, 1, 1, 1, 1, 1, 1, 1, 1, 1, 1, 1,\n",
       "       1, 1, 1, 1, 1, 1, 1, 1, 1, 1, 1, 1, 1, 1, 1, 1, 1, 1, 1, 1, 1, 1,\n",
       "       1, 1], dtype=int64)"
      ]
     },
     "execution_count": 33,
     "metadata": {},
     "output_type": "execute_result"
    }
   ],
   "source": [
    "y_hc"
   ]
  },
  {
   "cell_type": "code",
   "execution_count": 34,
   "metadata": {
    "id": "qC84SfwFWD5U",
    "outputId": "c4ddad63-c146-4df6-a974-a28d6871c9b1"
   },
   "outputs": [
    {
     "data": {
      "text/html": [
       "<div>\n",
       "<style scoped>\n",
       "    .dataframe tbody tr th:only-of-type {\n",
       "        vertical-align: middle;\n",
       "    }\n",
       "\n",
       "    .dataframe tbody tr th {\n",
       "        vertical-align: top;\n",
       "    }\n",
       "\n",
       "    .dataframe thead th {\n",
       "        text-align: right;\n",
       "    }\n",
       "</style>\n",
       "<table border=\"1\" class=\"dataframe\">\n",
       "  <thead>\n",
       "    <tr style=\"text-align: right;\">\n",
       "      <th></th>\n",
       "      <th>pc1</th>\n",
       "      <th>pc2</th>\n",
       "      <th>pc3</th>\n",
       "      <th>Type</th>\n",
       "      <th>h_clusters</th>\n",
       "    </tr>\n",
       "  </thead>\n",
       "  <tbody>\n",
       "    <tr>\n",
       "      <th>0</th>\n",
       "      <td>3.316751</td>\n",
       "      <td>-1.443463</td>\n",
       "      <td>-0.165739</td>\n",
       "      <td>1</td>\n",
       "      <td>2</td>\n",
       "    </tr>\n",
       "    <tr>\n",
       "      <th>1</th>\n",
       "      <td>2.209465</td>\n",
       "      <td>0.333393</td>\n",
       "      <td>-2.026457</td>\n",
       "      <td>1</td>\n",
       "      <td>2</td>\n",
       "    </tr>\n",
       "    <tr>\n",
       "      <th>2</th>\n",
       "      <td>2.516740</td>\n",
       "      <td>-1.031151</td>\n",
       "      <td>0.982819</td>\n",
       "      <td>1</td>\n",
       "      <td>2</td>\n",
       "    </tr>\n",
       "    <tr>\n",
       "      <th>3</th>\n",
       "      <td>3.757066</td>\n",
       "      <td>-2.756372</td>\n",
       "      <td>-0.176192</td>\n",
       "      <td>1</td>\n",
       "      <td>2</td>\n",
       "    </tr>\n",
       "    <tr>\n",
       "      <th>4</th>\n",
       "      <td>1.008908</td>\n",
       "      <td>-0.869831</td>\n",
       "      <td>2.026688</td>\n",
       "      <td>1</td>\n",
       "      <td>2</td>\n",
       "    </tr>\n",
       "    <tr>\n",
       "      <th>...</th>\n",
       "      <td>...</td>\n",
       "      <td>...</td>\n",
       "      <td>...</td>\n",
       "      <td>...</td>\n",
       "      <td>...</td>\n",
       "    </tr>\n",
       "    <tr>\n",
       "      <th>173</th>\n",
       "      <td>-3.370524</td>\n",
       "      <td>-2.216289</td>\n",
       "      <td>-0.342570</td>\n",
       "      <td>3</td>\n",
       "      <td>1</td>\n",
       "    </tr>\n",
       "    <tr>\n",
       "      <th>174</th>\n",
       "      <td>-2.601956</td>\n",
       "      <td>-1.757229</td>\n",
       "      <td>0.207581</td>\n",
       "      <td>3</td>\n",
       "      <td>1</td>\n",
       "    </tr>\n",
       "    <tr>\n",
       "      <th>175</th>\n",
       "      <td>-2.677839</td>\n",
       "      <td>-2.760899</td>\n",
       "      <td>-0.940942</td>\n",
       "      <td>3</td>\n",
       "      <td>1</td>\n",
       "    </tr>\n",
       "    <tr>\n",
       "      <th>176</th>\n",
       "      <td>-2.387017</td>\n",
       "      <td>-2.297347</td>\n",
       "      <td>-0.550696</td>\n",
       "      <td>3</td>\n",
       "      <td>1</td>\n",
       "    </tr>\n",
       "    <tr>\n",
       "      <th>177</th>\n",
       "      <td>-3.208758</td>\n",
       "      <td>-2.768920</td>\n",
       "      <td>1.013914</td>\n",
       "      <td>3</td>\n",
       "      <td>1</td>\n",
       "    </tr>\n",
       "  </tbody>\n",
       "</table>\n",
       "<p>178 rows × 5 columns</p>\n",
       "</div>"
      ],
      "text/plain": [
       "          pc1       pc2       pc3  Type  h_clusters\n",
       "0    3.316751 -1.443463 -0.165739     1           2\n",
       "1    2.209465  0.333393 -2.026457     1           2\n",
       "2    2.516740 -1.031151  0.982819     1           2\n",
       "3    3.757066 -2.756372 -0.176192     1           2\n",
       "4    1.008908 -0.869831  2.026688     1           2\n",
       "..        ...       ...       ...   ...         ...\n",
       "173 -3.370524 -2.216289 -0.342570     3           1\n",
       "174 -2.601956 -1.757229  0.207581     3           1\n",
       "175 -2.677839 -2.760899 -0.940942     3           1\n",
       "176 -2.387017 -2.297347 -0.550696     3           1\n",
       "177 -3.208758 -2.768920  1.013914     3           1\n",
       "\n",
       "[178 rows x 5 columns]"
      ]
     },
     "execution_count": 34,
     "metadata": {},
     "output_type": "execute_result"
    }
   ],
   "source": [
    "finalDf"
   ]
  },
  {
   "cell_type": "code",
   "execution_count": 35,
   "metadata": {
    "id": "FR4d1LKoWD5V",
    "outputId": "91d5e7bd-4ab2-405d-e8b6-d89c5dcf23a3"
   },
   "outputs": [
    {
     "name": "stderr",
     "output_type": "stream",
     "text": [
      "C:\\Users\\DELL\\anaconda3\\lib\\site-packages\\seaborn\\_decorators.py:36: FutureWarning: Pass the following variable as a keyword arg: x. From version 0.12, the only valid positional argument will be `data`, and passing other arguments without an explicit keyword will result in an error or misinterpretation.\n",
      "  warnings.warn(\n"
     ]
    },
    {
     "data": {
      "text/plain": [
       "<AxesSubplot:xlabel='h_clusters', ylabel='count'>"
      ]
     },
     "execution_count": 35,
     "metadata": {},
     "output_type": "execute_result"
    },
    {
     "data": {
      "image/png": "[encoded data removed]",
      "text/plain": [
       "<Figure size 432x288 with 1 Axes>"
      ]
     },
     "metadata": {
      "needs_background": "light"
     },
     "output_type": "display_data"
    }
   ],
   "source": [
    "sns.countplot(finalDf['h_clusters'])"
   ]
  },
  {
   "cell_type": "code",
   "execution_count": 36,
   "metadata": {
    "id": "CwXMTD6qWD5W"
   },
   "outputs": [],
   "source": [
    "from sklearn.cluster import KMeans\n",
    "from scipy.spatial.distance import cdist \n"
   ]
  },
  {
   "cell_type": "code",
   "execution_count": 37,
   "metadata": {
    "id": "OGNvx18xWD5W",
    "outputId": "522d5336-026b-4712-d8a7-0e639cf03fcb"
   },
   "outputs": [
    {
     "data": {
      "image/png": "[encoded data removed]",
      "text/plain": [
       "<Figure size 432x288 with 1 Axes>"
      ]
     },
     "metadata": {
      "needs_background": "light"
     },
     "output_type": "display_data"
    }
   ],
   "source": [
    "wcss = []\n",
    "for i in range(1,11):\n",
    "    kmeans = KMeans(n_clusters=i, random_state=0)\n",
    "    kmeans.fit(X)\n",
    "    wcss.append(kmeans.inertia_)\n",
    "plt.plot(range(1,11),wcss)\n",
    "plt.title('Elbow Curve')\n",
    "plt.xlabel('number of clusters')\n",
    "plt.ylabel('wcss')\n",
    "plt.show()"
   ]
  },
  {
   "cell_type": "code",
   "execution_count": 38,
   "metadata": {
    "id": "TMrSmbS8WD5X"
   },
   "outputs": [],
   "source": [
    "model=KMeans(n_clusters=3)"
   ]
  },
  {
   "cell_type": "code",
   "execution_count": 39,
   "metadata": {
    "id": "99MeGrKVWD5X",
    "outputId": "f9a89305-542a-4633-95d2-67acc0d63496"
   },
   "outputs": [
    {
     "data": {
      "text/plain": [
       "KMeans(n_clusters=3)"
      ]
     },
     "execution_count": 39,
     "metadata": {},
     "output_type": "execute_result"
    }
   ],
   "source": [
    "model.fit(X)"
   ]
  },
  {
   "cell_type": "code",
   "execution_count": 40,
   "metadata": {
    "id": "wyPMcd7oWD5Y",
    "outputId": "89801b55-3f09-401e-d640-38b9031125c5"
   },
   "outputs": [
    {
     "data": {
      "text/plain": [
       "array([1, 1, 1, 1, 1, 1, 1, 1, 1, 1, 1, 1, 1, 1, 1, 1, 1, 1, 1, 1, 1, 1,\n",
       "       1, 1, 1, 1, 1, 1, 1, 1, 1, 1, 1, 1, 1, 1, 1, 1, 1, 1, 1, 1, 1, 1,\n",
       "       1, 1, 1, 1, 1, 1, 1, 1, 1, 1, 1, 1, 1, 1, 1, 2, 2, 2, 2, 2, 2, 2,\n",
       "       2, 2, 2, 2, 2, 2, 2, 2, 2, 2, 2, 2, 2, 2, 2, 2, 2, 2, 2, 2, 2, 2,\n",
       "       2, 2, 2, 2, 2, 2, 2, 2, 2, 2, 2, 2, 2, 2, 2, 2, 2, 2, 2, 2, 2, 2,\n",
       "       2, 2, 2, 2, 2, 2, 2, 2, 2, 2, 2, 2, 2, 2, 2, 2, 2, 2, 2, 2, 0, 0,\n",
       "       0, 0, 0, 0, 0, 0, 0, 0, 0, 0, 0, 0, 0, 0, 0, 0, 0, 0, 0, 0, 0, 0,\n",
       "       0, 0, 0, 0, 0, 0, 0, 0, 0, 0, 0, 0, 0, 0, 0, 0, 0, 0, 0, 0, 0, 0,\n",
       "       0, 0])"
      ]
     },
     "execution_count": 40,
     "metadata": {},
     "output_type": "execute_result"
    }
   ],
   "source": [
    "model.labels_"
   ]
  },
  {
   "cell_type": "code",
   "execution_count": 41,
   "metadata": {
    "id": "vJ1FAldLWD5Z",
    "outputId": "78302cc6-c66c-4793-eecd-6c71692e97a3"
   },
   "outputs": [
    {
     "data": {
      "text/html": [
       "<div>\n",
       "<style scoped>\n",
       "    .dataframe tbody tr th:only-of-type {\n",
       "        vertical-align: middle;\n",
       "    }\n",
       "\n",
       "    .dataframe tbody tr th {\n",
       "        vertical-align: top;\n",
       "    }\n",
       "\n",
       "    .dataframe thead th {\n",
       "        text-align: right;\n",
       "    }\n",
       "</style>\n",
       "<table border=\"1\" class=\"dataframe\">\n",
       "  <thead>\n",
       "    <tr style=\"text-align: right;\">\n",
       "      <th></th>\n",
       "      <th>pc1</th>\n",
       "      <th>pc2</th>\n",
       "      <th>pc3</th>\n",
       "      <th>Type</th>\n",
       "      <th>h_clusters</th>\n",
       "      <th>clusters</th>\n",
       "    </tr>\n",
       "  </thead>\n",
       "  <tbody>\n",
       "    <tr>\n",
       "      <th>0</th>\n",
       "      <td>3.316751</td>\n",
       "      <td>-1.443463</td>\n",
       "      <td>-0.165739</td>\n",
       "      <td>1</td>\n",
       "      <td>2</td>\n",
       "      <td>1</td>\n",
       "    </tr>\n",
       "    <tr>\n",
       "      <th>1</th>\n",
       "      <td>2.209465</td>\n",
       "      <td>0.333393</td>\n",
       "      <td>-2.026457</td>\n",
       "      <td>1</td>\n",
       "      <td>2</td>\n",
       "      <td>1</td>\n",
       "    </tr>\n",
       "    <tr>\n",
       "      <th>2</th>\n",
       "      <td>2.516740</td>\n",
       "      <td>-1.031151</td>\n",
       "      <td>0.982819</td>\n",
       "      <td>1</td>\n",
       "      <td>2</td>\n",
       "      <td>1</td>\n",
       "    </tr>\n",
       "    <tr>\n",
       "      <th>3</th>\n",
       "      <td>3.757066</td>\n",
       "      <td>-2.756372</td>\n",
       "      <td>-0.176192</td>\n",
       "      <td>1</td>\n",
       "      <td>2</td>\n",
       "      <td>1</td>\n",
       "    </tr>\n",
       "    <tr>\n",
       "      <th>4</th>\n",
       "      <td>1.008908</td>\n",
       "      <td>-0.869831</td>\n",
       "      <td>2.026688</td>\n",
       "      <td>1</td>\n",
       "      <td>2</td>\n",
       "      <td>1</td>\n",
       "    </tr>\n",
       "    <tr>\n",
       "      <th>...</th>\n",
       "      <td>...</td>\n",
       "      <td>...</td>\n",
       "      <td>...</td>\n",
       "      <td>...</td>\n",
       "      <td>...</td>\n",
       "      <td>...</td>\n",
       "    </tr>\n",
       "    <tr>\n",
       "      <th>173</th>\n",
       "      <td>-3.370524</td>\n",
       "      <td>-2.216289</td>\n",
       "      <td>-0.342570</td>\n",
       "      <td>3</td>\n",
       "      <td>1</td>\n",
       "      <td>0</td>\n",
       "    </tr>\n",
       "    <tr>\n",
       "      <th>174</th>\n",
       "      <td>-2.601956</td>\n",
       "      <td>-1.757229</td>\n",
       "      <td>0.207581</td>\n",
       "      <td>3</td>\n",
       "      <td>1</td>\n",
       "      <td>0</td>\n",
       "    </tr>\n",
       "    <tr>\n",
       "      <th>175</th>\n",
       "      <td>-2.677839</td>\n",
       "      <td>-2.760899</td>\n",
       "      <td>-0.940942</td>\n",
       "      <td>3</td>\n",
       "      <td>1</td>\n",
       "      <td>0</td>\n",
       "    </tr>\n",
       "    <tr>\n",
       "      <th>176</th>\n",
       "      <td>-2.387017</td>\n",
       "      <td>-2.297347</td>\n",
       "      <td>-0.550696</td>\n",
       "      <td>3</td>\n",
       "      <td>1</td>\n",
       "      <td>0</td>\n",
       "    </tr>\n",
       "    <tr>\n",
       "      <th>177</th>\n",
       "      <td>-3.208758</td>\n",
       "      <td>-2.768920</td>\n",
       "      <td>1.013914</td>\n",
       "      <td>3</td>\n",
       "      <td>1</td>\n",
       "      <td>0</td>\n",
       "    </tr>\n",
       "  </tbody>\n",
       "</table>\n",
       "<p>178 rows × 6 columns</p>\n",
       "</div>"
      ],
      "text/plain": [
       "          pc1       pc2       pc3  Type  h_clusters  clusters\n",
       "0    3.316751 -1.443463 -0.165739     1           2         1\n",
       "1    2.209465  0.333393 -2.026457     1           2         1\n",
       "2    2.516740 -1.031151  0.982819     1           2         1\n",
       "3    3.757066 -2.756372 -0.176192     1           2         1\n",
       "4    1.008908 -0.869831  2.026688     1           2         1\n",
       "..        ...       ...       ...   ...         ...       ...\n",
       "173 -3.370524 -2.216289 -0.342570     3           1         0\n",
       "174 -2.601956 -1.757229  0.207581     3           1         0\n",
       "175 -2.677839 -2.760899 -0.940942     3           1         0\n",
       "176 -2.387017 -2.297347 -0.550696     3           1         0\n",
       "177 -3.208758 -2.768920  1.013914     3           1         0\n",
       "\n",
       "[178 rows x 6 columns]"
      ]
     },
     "execution_count": 41,
     "metadata": {},
     "output_type": "execute_result"
    }
   ],
   "source": [
    "md=pd.Series(model.labels_)\n",
    "finalDf[\"clusters\"]=md\n",
    "finalDf"
   ]
  },
  {
   "cell_type": "code",
   "execution_count": 42,
   "metadata": {
    "id": "qr_x3qr6WD5Z",
    "outputId": "cb53a76b-1b11-4012-d42d-6641bbf65e3a"
   },
   "outputs": [
    {
     "name": "stderr",
     "output_type": "stream",
     "text": [
      "C:\\Users\\DELL\\anaconda3\\lib\\site-packages\\seaborn\\_decorators.py:36: FutureWarning: Pass the following variable as a keyword arg: x. From version 0.12, the only valid positional argument will be `data`, and passing other arguments without an explicit keyword will result in an error or misinterpretation.\n",
      "  warnings.warn(\n"
     ]
    },
    {
     "data": {
      "text/plain": [
       "<AxesSubplot:xlabel='clusters', ylabel='count'>"
      ]
     },
     "execution_count": 42,
     "metadata": {},
     "output_type": "execute_result"
    },
    {
     "data": {
      "image/png": "[encoded data removed]",
      "text/plain": [
       "<Figure size 432x288 with 1 Axes>"
      ]
     },
     "metadata": {
      "needs_background": "light"
     },
     "output_type": "display_data"
    }
   ],
   "source": [
    "sns.countplot(finalDf[\"clusters\"])"
   ]
  },
  {
   "cell_type": "code",
   "execution_count": 43,
   "metadata": {
    "id": "_sGmyb5-WD5a",
    "outputId": "d3cdfd53-9743-47a8-946a-150d92bf4cd5"
   },
   "outputs": [
    {
     "data": {
      "text/html": [
       "<div>\n",
       "<style scoped>\n",
       "    .dataframe tbody tr th:only-of-type {\n",
       "        vertical-align: middle;\n",
       "    }\n",
       "\n",
       "    .dataframe tbody tr th {\n",
       "        vertical-align: top;\n",
       "    }\n",
       "\n",
       "    .dataframe thead th {\n",
       "        text-align: right;\n",
       "    }\n",
       "</style>\n",
       "<table border=\"1\" class=\"dataframe\">\n",
       "  <thead>\n",
       "    <tr style=\"text-align: right;\">\n",
       "      <th></th>\n",
       "      <th>pc1</th>\n",
       "      <th>pc2</th>\n",
       "      <th>pc3</th>\n",
       "      <th>Type</th>\n",
       "      <th>h_clusters</th>\n",
       "      <th>clusters</th>\n",
       "    </tr>\n",
       "    <tr>\n",
       "      <th>clusters</th>\n",
       "      <th></th>\n",
       "      <th></th>\n",
       "      <th></th>\n",
       "      <th></th>\n",
       "      <th></th>\n",
       "      <th></th>\n",
       "    </tr>\n",
       "  </thead>\n",
       "  <tbody>\n",
       "    <tr>\n",
       "      <th>0</th>\n",
       "      <td>-2.748200</td>\n",
       "      <td>-1.241308</td>\n",
       "      <td>-0.190818</td>\n",
       "      <td>3</td>\n",
       "      <td>1</td>\n",
       "      <td>0</td>\n",
       "    </tr>\n",
       "    <tr>\n",
       "      <th>1</th>\n",
       "      <td>2.282739</td>\n",
       "      <td>-0.967874</td>\n",
       "      <td>-0.159555</td>\n",
       "      <td>1</td>\n",
       "      <td>2</td>\n",
       "      <td>1</td>\n",
       "    </tr>\n",
       "    <tr>\n",
       "      <th>2</th>\n",
       "      <td>-0.038986</td>\n",
       "      <td>1.643483</td>\n",
       "      <td>0.261592</td>\n",
       "      <td>2</td>\n",
       "      <td>0</td>\n",
       "      <td>2</td>\n",
       "    </tr>\n",
       "  </tbody>\n",
       "</table>\n",
       "</div>"
      ],
      "text/plain": [
       "               pc1       pc2       pc3  Type  h_clusters  clusters\n",
       "clusters                                                          \n",
       "0        -2.748200 -1.241308 -0.190818     3           1         0\n",
       "1         2.282739 -0.967874 -0.159555     1           2         1\n",
       "2        -0.038986  1.643483  0.261592     2           0         2"
      ]
     },
     "execution_count": 43,
     "metadata": {},
     "output_type": "execute_result"
    }
   ],
   "source": [
    "finalDf.iloc[:,0:178].groupby(finalDf.clusters).mean()"
   ]
  },
  {
   "cell_type": "code",
   "execution_count": null,
   "metadata": {
    "id": "0C7foWjtWD5b"
   },
   "outputs": [],
   "source": []
  }
 ],
 "metadata": {
  "_draft": {
   "nbviewer_url": "https://gist.github.com/509e1118164c4b2f18744a3d9211bacd"
  },
  "colab": {
   "collapsed_sections": [],
   "name": "pca assigment.ipynb",
   "provenance": [],
   "toc_visible": true
  },
  "gist": {
   "data": {
    "description": "Untitled2.ipynb",
    "public": true
   },
   "id": "509e1118164c4b2f18744a3d9211bacd"
  },
  "kernelspec": {
   "display_name": "Python 3",
   "language": "python",
   "name": "python3"
  },
  "language_info": {
   "codemirror_mode": {
    "name": "ipython",
    "version": 3
   },
   "file_extension": ".py",
   "mimetype": "text/x-python",
   "name": "python",
   "nbconvert_exporter": "python",
   "pygments_lexer": "ipython3",
   "version": "3.8.5"
  }
 },
 "nbformat": 4,
 "nbformat_minor": 1
}
